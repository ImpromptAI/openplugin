{
 "cells": [
  {
   "cell_type": "markdown",
   "id": "67ede7d2-9a82-4ca5-887f-e0f522733afd",
   "metadata": {},
   "source": [
    "# Simple Demo"
   ]
  },
  {
   "cell_type": "markdown",
   "id": "b6d1fc77-fb42-452e-8aba-144f0ee5a449",
   "metadata": {},
   "source": [
    "### STEP 1: Install openplugin-sdk from PyPI"
   ]
  },
  {
   "cell_type": "code",
   "execution_count": 2,
   "id": "87006b6d-367e-4e86-be19-eec7750bfaf2",
   "metadata": {},
   "outputs": [
    {
     "name": "stdout",
     "output_type": "stream",
     "text": [
      "Collecting openplugin-sdk==0.1.4\n",
      "  Downloading openplugin_sdk-0.1.4-py3-none-any.whl (3.9 kB)\n",
      "Collecting httpx<0.28.0,>=0.27.0 (from openplugin-sdk==0.1.4)\n",
      "  Downloading httpx-0.27.0-py3-none-any.whl (75 kB)\n",
      "\u001b[2K     \u001b[38;2;114;156;31m━━━━━━━━━━━━━━━━━━━━━━━━━━━━━━━━━━━━━━━━\u001b[0m \u001b[32m75.6/75.6 kB\u001b[0m \u001b[31m1.5 MB/s\u001b[0m eta \u001b[36m0:00:00\u001b[0m[31m2.0 MB/s\u001b[0m eta \u001b[36m0:00:01\u001b[0m\n",
      "\u001b[?25hCollecting pydantic<3.0.0,>=2.6.3 (from openplugin-sdk==0.1.4)\n",
      "  Downloading pydantic-2.6.4-py3-none-any.whl (394 kB)\n",
      "\u001b[2K     \u001b[38;2;114;156;31m━━━━━━━━━━━━━━━━━━━━━━━━━━━━━━━━━━━━━━━\u001b[0m \u001b[32m394.9/394.9 kB\u001b[0m \u001b[31m1.7 MB/s\u001b[0m eta \u001b[36m0:00:00\u001b[0m[36m0:00:01\u001b[0m[36m0:00:01\u001b[0m\n",
      "\u001b[?25hRequirement already satisfied: anyio in /Users/shrikant/Misc/miniconda3/envs/openplugin/lib/python3.9/site-packages (from httpx<0.28.0,>=0.27.0->openplugin-sdk==0.1.4) (3.6.2)\n",
      "Requirement already satisfied: certifi in /Users/shrikant/Misc/miniconda3/envs/openplugin/lib/python3.9/site-packages (from httpx<0.28.0,>=0.27.0->openplugin-sdk==0.1.4) (2023.7.22)\n",
      "Requirement already satisfied: httpcore==1.* in /Users/shrikant/Misc/miniconda3/envs/openplugin/lib/python3.9/site-packages (from httpx<0.28.0,>=0.27.0->openplugin-sdk==0.1.4) (1.0.2)\n",
      "Requirement already satisfied: idna in /Users/shrikant/Misc/miniconda3/envs/openplugin/lib/python3.9/site-packages (from httpx<0.28.0,>=0.27.0->openplugin-sdk==0.1.4) (3.4)\n",
      "Requirement already satisfied: sniffio in /Users/shrikant/Misc/miniconda3/envs/openplugin/lib/python3.9/site-packages (from httpx<0.28.0,>=0.27.0->openplugin-sdk==0.1.4) (1.3.0)\n",
      "Requirement already satisfied: h11<0.15,>=0.13 in /Users/shrikant/Misc/miniconda3/envs/openplugin/lib/python3.9/site-packages (from httpcore==1.*->httpx<0.28.0,>=0.27.0->openplugin-sdk==0.1.4) (0.14.0)\n",
      "Requirement already satisfied: annotated-types>=0.4.0 in /Users/shrikant/Misc/miniconda3/envs/openplugin/lib/python3.9/site-packages (from pydantic<3.0.0,>=2.6.3->openplugin-sdk==0.1.4) (0.6.0)\n",
      "Collecting pydantic-core==2.16.3 (from pydantic<3.0.0,>=2.6.3->openplugin-sdk==0.1.4)\n",
      "  Downloading pydantic_core-2.16.3-cp39-cp39-macosx_11_0_arm64.whl (1.8 MB)\n",
      "\u001b[2K     \u001b[38;2;114;156;31m━━━━━━━━━━━━━━━━━━━━━━━━━━━━━━━━━━━━━━━━\u001b[0m \u001b[32m1.8/1.8 MB\u001b[0m \u001b[31m1.8 MB/s\u001b[0m eta \u001b[36m0:00:00\u001b[0m[36m0:00:01\u001b[0mm eta \u001b[36m0:00:01\u001b[0m\n",
      "\u001b[?25hRequirement already satisfied: typing-extensions>=4.6.1 in /Users/shrikant/Misc/miniconda3/envs/openplugin/lib/python3.9/site-packages (from pydantic<3.0.0,>=2.6.3->openplugin-sdk==0.1.4) (4.9.0)\n",
      "Installing collected packages: pydantic-core, pydantic, httpx, openplugin-sdk\n",
      "  Attempting uninstall: pydantic-core\n",
      "    Found existing installation: pydantic_core 2.16.2\n",
      "    Uninstalling pydantic_core-2.16.2:\n",
      "      Successfully uninstalled pydantic_core-2.16.2\n",
      "  Attempting uninstall: pydantic\n",
      "    Found existing installation: pydantic 2.6.1\n",
      "    Uninstalling pydantic-2.6.1:\n",
      "      Successfully uninstalled pydantic-2.6.1\n",
      "  Attempting uninstall: httpx\n",
      "    Found existing installation: httpx 0.26.0\n",
      "    Uninstalling httpx-0.26.0:\n",
      "      Successfully uninstalled httpx-0.26.0\n",
      "\u001b[31mERROR: pip's dependency resolver does not currently take into account all the packages that are installed. This behaviour is the source of the following dependency conflicts.\n",
      "openplugin 0.0.31 requires fastapi<0.96.0,>=0.95.2, but you have fastapi 0.109.2 which is incompatible.\n",
      "openplugin 0.0.31 requires langchain<0.0.179,>=0.0.178, but you have langchain 0.1.7 which is incompatible.\n",
      "openplugin 0.0.31 requires pydantic==1.10.14, but you have pydantic 2.6.4 which is incompatible.\u001b[0m\u001b[31m\n",
      "\u001b[0mSuccessfully installed httpx-0.27.0 openplugin-sdk-0.1.4 pydantic-2.6.4 pydantic-core-2.16.3\n",
      "Note: you may need to restart the kernel to use updated packages.\n"
     ]
    }
   ],
   "source": [
    "pip install openplugin-sdk"
   ]
  },
  {
   "cell_type": "markdown",
   "id": "af4ce1b3-5180-4af3-9ded-6ad24cfbbdc2",
   "metadata": {},
   "source": [
    "### STEP 2: Setup openplugin service"
   ]
  },
  {
   "cell_type": "code",
   "execution_count": 3,
   "id": "5d10c75d-7bc6-447f-bff5-6818c8ff289e",
   "metadata": {},
   "outputs": [
    {
     "name": "stdout",
     "output_type": "stream",
     "text": [
      "openplugin_version: 0.1.4, server_status=success\n"
     ]
    }
   ],
   "source": [
    "# setup openplugin service with remote server url\n",
    "from openplugin_sdk import OpenpluginService\n",
    "import os\n",
    "\n",
    "openplugin_server_endpoint = \"...\"\n",
    "openplugin_api_key = \"...\"\n",
    "   \n",
    "svc = OpenpluginService(openplugin_server_endpoint=openplugin_server_endpoint, openplugin_api_key=openplugin_api_key)\n",
    "print(f\"openplugin_version: {svc.remote_server_version()}, server_status={svc.ping()}\")"
   ]
  },
  {
   "cell_type": "markdown",
   "id": "5f39952d-e719-4731-a437-51743dd40b61",
   "metadata": {},
   "source": [
    "### STEP 3: Run an openplugin"
   ]
  },
  {
   "cell_type": "code",
   "execution_count": 7,
   "id": "181cc3b8-7c9c-4720-8cca-1964a5b2bacd",
   "metadata": {},
   "outputs": [
    {
     "name": "stdout",
     "output_type": "stream",
     "text": [
      "\n",
      "Name: Lacoste Men's T-shirts 3-pack - Black\n",
      "URL: https://www.klarna.com/us/shopping/pl/cl10001/3202043025/Clothing/Lacoste-Men-s-T-shirts-3-pack-Black/?utm_source=openai&ref-site=openai_plugin\n",
      "Price: $27.19\n",
      "\n",
      "\n",
      "Name: Nike Shortsleeve Crewneck T-shirts 2-pack - Black/Black\n",
      "URL: https://www.klarna.com/us/shopping/pl/cl10001/3200175752/Clothing/Nike-Shortsleeve-Crewneck-T-shirts-2-pack-Black-Black/?utm_source=openai&ref-site=openai_plugin\n",
      "Price: $31.87\n",
      "\n",
      "\n",
      "Name: Kenzo T Shirts\n",
      "URL: https://www.klarna.com/us/shopping/pl/cl10001/3208499396/Clothing/Kenzo-T-Shirts/?utm_source=openai&ref-site=openai_plugin\n",
      "Price: $89.99\n",
      "\n",
      "\n",
      "Name: Moschino T-shirts and Polos Black BLACK\n",
      "URL: https://www.klarna.com/us/shopping/pl/cl10001/3216623436/Clothing/Moschino-T-shirts-and-Polos-Black-BLACK/?utm_source=openai&ref-site=openai_plugin\n",
      "Price: $147.90\n",
      "\n",
      "\n",
      "Name: Hanes Boy's Ultimate Lightweight T-shirts 5-Pack - Assorted (BUBCR5)\n",
      "URL: https://www.klarna.com/us/shopping/pl/cl359/3201157848/Children-s-Clothing/Hanes-Boy-s-Ultimate-Lightweight-T-shirts-5-Pack-Assorted-%28BUBCR5%29/?utm_source=openai&ref-site=openai_plugin\n",
      "Price: $11.90\n",
      "\n",
      "\n"
     ]
    }
   ],
   "source": [
    "openplugin_manifest_url = \"https://assistant-management-data.s3.amazonaws.com/Klarna_Shopping2.json\"\n",
    "prompt = \"Show me some T Shirts.\"\n",
    "output_module_name = \"default_cleanup_response\"\n",
    "\n",
    "response = svc.run(\n",
    "        openplugin_manifest_url=openplugin_manifest_url,\n",
    "        prompt=prompt,\n",
    "        output_module_names=[output_module_name],\n",
    ")\n",
    "print(response.value)"
   ]
  },
  {
   "cell_type": "code",
   "execution_count": null,
   "id": "e1b626dc-ed44-4541-8f3b-55c291198cf0",
   "metadata": {},
   "outputs": [],
   "source": []
  }
 ],
 "metadata": {
  "kernelspec": {
   "display_name": "Python 3 (ipykernel)",
   "language": "python",
   "name": "python3"
  },
  "language_info": {
   "codemirror_mode": {
    "name": "ipython",
    "version": 3
   },
   "file_extension": ".py",
   "mimetype": "text/x-python",
   "name": "python",
   "nbconvert_exporter": "python",
   "pygments_lexer": "ipython3",
   "version": "3.9.16"
  }
 },
 "nbformat": 4,
 "nbformat_minor": 5
}
