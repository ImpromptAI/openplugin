{
 "cells": [
  {
   "cell_type": "code",
   "execution_count": 1,
   "id": "e049306f-f47d-49c3-9e4e-bf7dec737433",
   "metadata": {},
   "outputs": [
    {
     "name": "stdout",
     "output_type": "stream",
     "text": [
      "Requirement already satisfied: openplugin-sdk in /Users/shrikant/Misc/miniconda3/envs/openplugin/lib/python3.9/site-packages (0.1.4)\n",
      "Collecting httpx<0.28.0,>=0.27.0 (from openplugin-sdk)\n",
      "  Using cached httpx-0.27.0-py3-none-any.whl (75 kB)\n",
      "Collecting pydantic<3.0.0,>=2.6.3 (from openplugin-sdk)\n",
      "  Using cached pydantic-2.6.4-py3-none-any.whl (394 kB)\n",
      "Requirement already satisfied: anyio in /Users/shrikant/Misc/miniconda3/envs/openplugin/lib/python3.9/site-packages (from httpx<0.28.0,>=0.27.0->openplugin-sdk) (3.6.2)\n",
      "Requirement already satisfied: certifi in /Users/shrikant/Misc/miniconda3/envs/openplugin/lib/python3.9/site-packages (from httpx<0.28.0,>=0.27.0->openplugin-sdk) (2023.7.22)\n",
      "Requirement already satisfied: httpcore==1.* in /Users/shrikant/Misc/miniconda3/envs/openplugin/lib/python3.9/site-packages (from httpx<0.28.0,>=0.27.0->openplugin-sdk) (1.0.2)\n",
      "Requirement already satisfied: idna in /Users/shrikant/Misc/miniconda3/envs/openplugin/lib/python3.9/site-packages (from httpx<0.28.0,>=0.27.0->openplugin-sdk) (3.4)\n",
      "Requirement already satisfied: sniffio in /Users/shrikant/Misc/miniconda3/envs/openplugin/lib/python3.9/site-packages (from httpx<0.28.0,>=0.27.0->openplugin-sdk) (1.3.0)\n",
      "Requirement already satisfied: h11<0.15,>=0.13 in /Users/shrikant/Misc/miniconda3/envs/openplugin/lib/python3.9/site-packages (from httpcore==1.*->httpx<0.28.0,>=0.27.0->openplugin-sdk) (0.14.0)\n",
      "Requirement already satisfied: annotated-types>=0.4.0 in /Users/shrikant/Misc/miniconda3/envs/openplugin/lib/python3.9/site-packages (from pydantic<3.0.0,>=2.6.3->openplugin-sdk) (0.6.0)\n",
      "Collecting pydantic-core==2.16.3 (from pydantic<3.0.0,>=2.6.3->openplugin-sdk)\n",
      "  Using cached pydantic_core-2.16.3-cp39-cp39-macosx_11_0_arm64.whl (1.8 MB)\n",
      "Requirement already satisfied: typing-extensions>=4.6.1 in /Users/shrikant/Misc/miniconda3/envs/openplugin/lib/python3.9/site-packages (from pydantic<3.0.0,>=2.6.3->openplugin-sdk) (4.9.0)\n",
      "Installing collected packages: pydantic-core, pydantic, httpx\n",
      "  Attempting uninstall: pydantic-core\n",
      "    Found existing installation: pydantic_core 2.16.2\n",
      "    Uninstalling pydantic_core-2.16.2:\n",
      "      Successfully uninstalled pydantic_core-2.16.2\n",
      "  Attempting uninstall: pydantic\n",
      "    Found existing installation: pydantic 2.6.1\n",
      "    Uninstalling pydantic-2.6.1:\n",
      "      Successfully uninstalled pydantic-2.6.1\n",
      "  Attempting uninstall: httpx\n",
      "    Found existing installation: httpx 0.26.0\n",
      "    Uninstalling httpx-0.26.0:\n",
      "      Successfully uninstalled httpx-0.26.0\n",
      "\u001b[31mERROR: pip's dependency resolver does not currently take into account all the packages that are installed. This behaviour is the source of the following dependency conflicts.\n",
      "openplugin 0.0.31 requires fastapi<0.96.0,>=0.95.2, but you have fastapi 0.109.2 which is incompatible.\n",
      "openplugin 0.0.31 requires langchain<0.0.179,>=0.0.178, but you have langchain 0.1.7 which is incompatible.\n",
      "openplugin 0.0.31 requires pydantic==1.10.14, but you have pydantic 2.6.4 which is incompatible.\u001b[0m\u001b[31m\n",
      "\u001b[0mSuccessfully installed httpx-0.27.0 pydantic-2.6.4 pydantic-core-2.16.3\n",
      "Note: you may need to restart the kernel to use updated packages.\n"
     ]
    }
   ],
   "source": [
    "pip install openplugin-sdk"
   ]
  },
  {
   "cell_type": "code",
   "execution_count": 2,
   "id": "6331052c-dfc6-4e5a-8fdd-b7bca99b482a",
   "metadata": {},
   "outputs": [
    {
     "name": "stdout",
     "output_type": "stream",
     "text": [
      "openplugin_version: 0.1.4, server_status=success\n"
     ]
    }
   ],
   "source": [
    "# setup openplugin service with remote server url\n",
    "from openplugin_sdk import OpenpluginService\n",
    "import os\n",
    "\n",
    "openplugin_server_endpoint = \"...\"\n",
    "openplugin_api_key = \"...\"\n",
    "\n",
    "svc = OpenpluginService(openplugin_server_endpoint=openplugin_server_endpoint, openplugin_api_key=openplugin_api_key)\n",
    "print(f\"openplugin_version: {svc.remote_server_version()}, server_status={svc.ping()}\")"
   ]
  },
  {
   "cell_type": "code",
   "execution_count": 5,
   "id": "81186bca-c0fb-4fb0-9e99-19d6a553e54a",
   "metadata": {},
   "outputs": [
    {
     "name": "stdout",
     "output_type": "stream",
     "text": [
      "The response includes a list of clothing products with details such as name, price, URL, and attributes. Some of the products mentioned are Lacoste Men's T-shirts 3-pack in black, MANGDIUP Women's scoop neck T-shirts in white, Nike Shortsleeve Crewneck T-shirts 2-pack in black, Moschino T-shirts and Polos in black, and Diesel T-shirt con logo peekaboo in black. The products vary in price, materials, colors, sizes, and target groups. The prices range from $1.49 to $143.00, catering to both men and women. Each product has a unique URL for purchase.\n"
     ]
    }
   ],
   "source": [
    "openplugin_manifest_url = \"https://raw.githubusercontent.com/ImpromptAI/openplugin-manifests/main/vendor-owned/unofficial/klarna/manifest.json\"\n",
    "prompt = \"Show me some T Shirts.\"\n",
    "output_module_name = \"summary_response\"\n",
    "\n",
    "response = svc.run(\n",
    "        openplugin_manifest_url=openplugin_manifest_url,\n",
    "        prompt=prompt,\n",
    "        output_module_names=[output_module_name],\n",
    ")\n",
    "print(response.value)"
   ]
  },
  {
   "cell_type": "code",
   "execution_count": null,
   "id": "f34474b7-d412-4033-bd34-2fd4ace29b46",
   "metadata": {},
   "outputs": [],
   "source": []
  }
 ],
 "metadata": {
  "kernelspec": {
   "display_name": "Python 3 (ipykernel)",
   "language": "python",
   "name": "python3"
  },
  "language_info": {
   "codemirror_mode": {
    "name": "ipython",
    "version": 3
   },
   "file_extension": ".py",
   "mimetype": "text/x-python",
   "name": "python",
   "nbconvert_exporter": "python",
   "pygments_lexer": "ipython3",
   "version": "3.9.16"
  }
 },
 "nbformat": 4,
 "nbformat_minor": 5
}
