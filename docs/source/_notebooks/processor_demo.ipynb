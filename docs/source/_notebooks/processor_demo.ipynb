{
 "cells": [
  {
   "cell_type": "markdown",
   "id": "7e5e018b-f907-44b1-aa04-e3951c015e80",
   "metadata": {},
   "source": [
    "# Processor Demo"
   ]
  }
 ],
 "metadata": {
  "kernelspec": {
   "display_name": "Python 3 (ipykernel)",
   "language": "python",
   "name": "python3"
  },
  "language_info": {
   "codemirror_mode": {
    "name": "ipython",
    "version": 3
   },
   "file_extension": ".py",
   "mimetype": "text/x-python",
   "name": "python",
   "nbconvert_exporter": "python",
   "pygments_lexer": "ipython3",
   "version": "3.9.16"
  }
 },
 "nbformat": 4,
 "nbformat_minor": 5
}
