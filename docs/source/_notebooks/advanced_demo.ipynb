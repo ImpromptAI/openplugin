{
 "cells": [
  {
   "cell_type": "markdown",
   "id": "9f5c8169-c057-476d-93b5-59509eb6e95a",
   "metadata": {},
   "source": [
    "# Advanced Demo"
   ]
  },
  {
   "cell_type": "markdown",
   "id": "ea53be81-5bb0-4b84-ac69-c66faeb01bdb",
   "metadata": {},
   "source": [
    "### STEP 1: Install openplugin-sdk from PyPI"
   ]
  },
  {
   "cell_type": "code",
   "execution_count": 1,
   "id": "f2f92d5b-61aa-4fc1-ac3d-78832842485c",
   "metadata": {},
   "outputs": [
    {
     "name": "stdout",
     "output_type": "stream",
     "text": [
      "Requirement already satisfied: openplugin-sdk in /Users/shrikant/Misc/miniconda3/envs/openplugin/lib/python3.9/site-packages (0.1.4)\n",
      "Requirement already satisfied: httpx<0.28.0,>=0.27.0 in /Users/shrikant/Misc/miniconda3/envs/openplugin/lib/python3.9/site-packages (from openplugin-sdk) (0.27.0)\n",
      "Requirement already satisfied: pydantic<3.0.0,>=2.6.3 in /Users/shrikant/Misc/miniconda3/envs/openplugin/lib/python3.9/site-packages (from openplugin-sdk) (2.6.4)\n",
      "Requirement already satisfied: anyio in /Users/shrikant/Misc/miniconda3/envs/openplugin/lib/python3.9/site-packages (from httpx<0.28.0,>=0.27.0->openplugin-sdk) (3.6.2)\n",
      "Requirement already satisfied: certifi in /Users/shrikant/Misc/miniconda3/envs/openplugin/lib/python3.9/site-packages (from httpx<0.28.0,>=0.27.0->openplugin-sdk) (2023.7.22)\n",
      "Requirement already satisfied: httpcore==1.* in /Users/shrikant/Misc/miniconda3/envs/openplugin/lib/python3.9/site-packages (from httpx<0.28.0,>=0.27.0->openplugin-sdk) (1.0.2)\n",
      "Requirement already satisfied: idna in /Users/shrikant/Misc/miniconda3/envs/openplugin/lib/python3.9/site-packages (from httpx<0.28.0,>=0.27.0->openplugin-sdk) (3.4)\n",
      "Requirement already satisfied: sniffio in /Users/shrikant/Misc/miniconda3/envs/openplugin/lib/python3.9/site-packages (from httpx<0.28.0,>=0.27.0->openplugin-sdk) (1.3.0)\n",
      "Requirement already satisfied: h11<0.15,>=0.13 in /Users/shrikant/Misc/miniconda3/envs/openplugin/lib/python3.9/site-packages (from httpcore==1.*->httpx<0.28.0,>=0.27.0->openplugin-sdk) (0.14.0)\n",
      "Requirement already satisfied: annotated-types>=0.4.0 in /Users/shrikant/Misc/miniconda3/envs/openplugin/lib/python3.9/site-packages (from pydantic<3.0.0,>=2.6.3->openplugin-sdk) (0.6.0)\n",
      "Requirement already satisfied: pydantic-core==2.16.3 in /Users/shrikant/Misc/miniconda3/envs/openplugin/lib/python3.9/site-packages (from pydantic<3.0.0,>=2.6.3->openplugin-sdk) (2.16.3)\n",
      "Requirement already satisfied: typing-extensions>=4.6.1 in /Users/shrikant/Misc/miniconda3/envs/openplugin/lib/python3.9/site-packages (from pydantic<3.0.0,>=2.6.3->openplugin-sdk) (4.9.0)\n",
      "Note: you may need to restart the kernel to use updated packages.\n"
     ]
    }
   ],
   "source": [
    "pip install openplugin-sdk"
   ]
  },
  {
   "cell_type": "markdown",
   "id": "e5e64c80-0eef-4abe-84c7-2f6a13f91f49",
   "metadata": {},
   "source": [
    "### STEP 2: Setup openplugin service"
   ]
  },
  {
   "cell_type": "code",
   "execution_count": 2,
   "id": "b3d1797d-adaf-4230-9389-1e87b16e905d",
   "metadata": {},
   "outputs": [
    {
     "name": "stdout",
     "output_type": "stream",
     "text": [
      "openplugin_version: 0.1.4, server_status=success\n"
     ]
    }
   ],
   "source": [
    "from openplugin_sdk import OpenpluginService\n",
    "import os\n",
    "\n",
    "openplugin_server_endpoint = \"http://localhost:8003\"\n",
    "openplugin_api_key = \"...\"\n",
    "   \n",
    "svc = OpenpluginService(openplugin_server_endpoint=openplugin_server_endpoint, openplugin_api_key=openplugin_api_key)\n",
    "print(f\"openplugin_version: {svc.remote_server_version()}, server_status={svc.ping()}\")"
   ]
  },
  {
   "cell_type": "markdown",
   "id": "5843d935-7320-4f78-969d-d2e2fd8f1cab",
   "metadata": {},
   "source": [
    "### STEP 3: Run an openplugin"
   ]
  },
  {
   "cell_type": "code",
   "execution_count": 3,
   "id": "344ebe5a-1cb1-460c-b614-e5792c57b607",
   "metadata": {},
   "outputs": [
    {
     "name": "stdout",
     "output_type": "stream",
     "text": [
      "<>\n",
      "  <div className=\"stock-info\">\n",
      "    <h2>{response.answer_box.title} ({response.answer_box.stock}) Stock Price</h2>\n",
      "    <p>\n",
      "      <strong>Exchange:</strong> {response.answer_box.exchange} - \n",
      "      <strong> Currency:</strong> {response.answer_box.currency} - \n",
      "      <strong>Current Price:</strong> ${response.answer_box.price}\n",
      "    </p>\n",
      "    <div className=\"price-movement\">\n",
      "      <p><strong>Price Movement Today:</strong> {response.answer_box.price_movement.movement}</p>\n",
      "      <p>{response.answer_box.price_movement.price} ({response.answer_box.price_movement.percentage}%)</p>\n",
      "    </div>\n",
      "    <div className=\"market-status\">\n",
      "      <p><strong>Market Status:</strong> {response.answer_box.market.trading}</p>\n",
      "      <p>{response.answer_box.market.closed ? \"Closed\" : \"Open\"}</p>\n",
      "    </div>\n",
      "    <div className=\"previous-close\">\n",
      "      <p><strong>Previous Close:</strong> ${response.answer_box.previous_close}</p>\n",
      "    </div>\n",
      "    <table className=\"stock-details\">\n",
      "      <tbody>\n",
      "        {response.answer_box.table.map((item, index) => (\n",
      "          <tr key={index}>\n",
      "            <td>{item.name}</td>\n",
      "            <td>{item.value}</td>\n",
      "          </tr>\n",
      "        ))}\n",
      "      </tbody>\n",
      "    </table>\n",
      "  </div>\n",
      "</>\n"
     ]
    }
   ],
   "source": [
    "from openplugin_sdk import Approach, UserAuthHeader, LLM, Config\n",
    "openplugin_manifest_url = \"https://assistant-management-data.s3.amazonaws.com/Google_Finance.json\"\n",
    "prompt = \"What is the stock price for AMZN?\"\n",
    "output_module_name = \"template_response\"\n",
    "header = UserAuthHeader(\n",
    "        user_http_token=\"...\"\n",
    ")\n",
    "llm = LLM(\n",
    "        provider=\"OpenAIChat\",\n",
    "        model=\"gpt-4\",\n",
    "        frequency_penalty=0,\n",
    "        max_tokens=2048,\n",
    "        presence_penalty=0,\n",
    "        temperature=0,\n",
    "        top_p=1,\n",
    "    )\n",
    "\n",
    "approach = Approach(\n",
    "        name=\"custom approach\",\n",
    "        base_strategy=\"oai functions\",\n",
    "        pre_prompt=None,\n",
    "        llm=llm,\n",
    "    )\n",
    "config=Config(openai_api_key=\"...\")\n",
    "    \n",
    "output_module_name = \"template_response\"\n",
    "response = svc.run(\n",
    "        openplugin_manifest_url=openplugin_manifest_url,\n",
    "        prompt=prompt,\n",
    "        header=header,\n",
    "        approach=approach,\n",
    "        config=config,\n",
    "        output_module_names=[output_module_name],\n",
    "    )\n",
    "print(response.value)"
   ]
  },
  {
   "cell_type": "code",
   "execution_count": null,
   "id": "d4acf844-afdf-400e-9d89-02dc5f1d6e1f",
   "metadata": {},
   "outputs": [],
   "source": []
  }
 ],
 "metadata": {
  "kernelspec": {
   "display_name": "Python 3 (ipykernel)",
   "language": "python",
   "name": "python3"
  },
  "language_info": {
   "codemirror_mode": {
    "name": "ipython",
    "version": 3
   },
   "file_extension": ".py",
   "mimetype": "text/x-python",
   "name": "python",
   "nbconvert_exporter": "python",
   "pygments_lexer": "ipython3",
   "version": "3.9.16"
  }
 },
 "nbformat": 4,
 "nbformat_minor": 5
}
