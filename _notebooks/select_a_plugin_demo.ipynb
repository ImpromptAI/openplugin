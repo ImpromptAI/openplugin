{
 "cells": [
  {
   "cell_type": "markdown",
   "id": "c25ec5c5-4f21-4256-8629-c4de518ba632",
   "metadata": {},
   "source": [
    "# Select a plugin Demo"
   ]
  },
  {
   "cell_type": "code",
   "execution_count": 1,
   "id": "a69f3ba1-87f6-4982-822f-bb28188a2eb7",
   "metadata": {},
   "outputs": [
    {
     "name": "stdout",
     "output_type": "stream",
     "text": [
      "Requirement already satisfied: openplugin-sdk==0.1.5 in /opt/homebrew/Cellar/jupyterlab/4.1.3/libexec/lib/python3.12/site-packages (0.1.5)\n",
      "Requirement already satisfied: httpx<0.28.0,>=0.27.0 in /opt/homebrew/Cellar/jupyterlab/4.1.3/libexec/lib/python3.12/site-packages (from openplugin-sdk==0.1.5) (0.27.0)\n",
      "Requirement already satisfied: pydantic<3.0.0,>=2.6.3 in /opt/homebrew/Cellar/jupyterlab/4.1.3/libexec/lib/python3.12/site-packages (from openplugin-sdk==0.1.5) (2.6.3)\n",
      "Requirement already satisfied: anyio in /opt/homebrew/Cellar/jupyterlab/4.1.3/libexec/lib/python3.12/site-packages (from httpx<0.28.0,>=0.27.0->openplugin-sdk==0.1.5) (4.3.0)\n",
      "Requirement already satisfied: certifi in /opt/homebrew/opt/python-certifi/lib/python3.12/site-packages (from httpx<0.28.0,>=0.27.0->openplugin-sdk==0.1.5) (2024.2.2)\n",
      "Requirement already satisfied: httpcore==1.* in /opt/homebrew/Cellar/jupyterlab/4.1.3/libexec/lib/python3.12/site-packages (from httpx<0.28.0,>=0.27.0->openplugin-sdk==0.1.5) (1.0.4)\n",
      "Requirement already satisfied: idna in /opt/homebrew/Cellar/jupyterlab/4.1.3/libexec/lib/python3.12/site-packages (from httpx<0.28.0,>=0.27.0->openplugin-sdk==0.1.5) (3.6)\n",
      "Requirement already satisfied: sniffio in /opt/homebrew/Cellar/jupyterlab/4.1.3/libexec/lib/python3.12/site-packages (from httpx<0.28.0,>=0.27.0->openplugin-sdk==0.1.5) (1.3.1)\n",
      "Requirement already satisfied: h11<0.15,>=0.13 in /opt/homebrew/Cellar/jupyterlab/4.1.3/libexec/lib/python3.12/site-packages (from httpcore==1.*->httpx<0.28.0,>=0.27.0->openplugin-sdk==0.1.5) (0.14.0)\n",
      "Requirement already satisfied: annotated-types>=0.4.0 in /opt/homebrew/Cellar/jupyterlab/4.1.3/libexec/lib/python3.12/site-packages (from pydantic<3.0.0,>=2.6.3->openplugin-sdk==0.1.5) (0.6.0)\n",
      "Requirement already satisfied: pydantic-core==2.16.3 in /opt/homebrew/Cellar/jupyterlab/4.1.3/libexec/lib/python3.12/site-packages (from pydantic<3.0.0,>=2.6.3->openplugin-sdk==0.1.5) (2.16.3)\n",
      "Requirement already satisfied: typing-extensions>=4.6.1 in /opt/homebrew/Cellar/jupyterlab/4.1.3/libexec/lib/python3.12/site-packages (from pydantic<3.0.0,>=2.6.3->openplugin-sdk==0.1.5) (4.10.0)\n",
      "Note: you may need to restart the kernel to use updated packages.\n"
     ]
    }
   ],
   "source": [
    "pip install openplugin-sdk==0.1.5"
   ]
  },
  {
   "cell_type": "code",
   "execution_count": 3,
   "id": "9a091ce4-d02f-4e36-9847-e150b72145d2",
   "metadata": {},
   "outputs": [
    {
     "name": "stdout",
     "output_type": "stream",
     "text": [
      "openplugin_version: 0.1.6, server_status=success\n"
     ]
    }
   ],
   "source": [
    "# setup openplugin service with remote server url\n",
    "from openplugin_sdk import OpenpluginService\n",
    "import os\n",
    "\n",
    "openplugin_server_endpoint = \"...\"\n",
    "openplugin_api_key = \"...\"\n",
    "   \n",
    "svc = OpenpluginService(openplugin_server_endpoint=openplugin_server_endpoint, openplugin_api_key=openplugin_api_key)\n",
    "print(f\"openplugin_version: {svc.remote_server_version()}, server_status={svc.ping()}\")"
   ]
  },
  {
   "cell_type": "code",
   "execution_count": 5,
   "id": "fabcfd81-6b0a-4303-b2c7-3e03816e74a0",
   "metadata": {},
   "outputs": [
    {
     "name": "stdout",
     "output_type": "stream",
     "text": [
      "https://assistant-management-data.s3.amazonaws.com/Klarna_Shopping2.json\n"
     ]
    }
   ],
   "source": [
    "from openplugin_sdk import Config\n",
    "\n",
    "openplugin_manifest_url = (\n",
    "        \"https://assistant-management-data.s3.amazonaws.com/Klarna_Shopping2.json\"\n",
    ")\n",
    "prompt = \"Show me some T Shirts.\"\n",
    "openplugin_manifest_urls = [openplugin_manifest_url]\n",
    "config = Config(\n",
    "        openai_api_key=\"...\"\n",
    ")\n",
    "response = svc.select_a_plugin(\n",
    "        openplugin_manifest_urls=openplugin_manifest_urls,\n",
    "        prompt=prompt,\n",
    "        config=config,\n",
    ")\n",
    "print(response)"
   ]
  },
  {
   "cell_type": "code",
   "execution_count": null,
   "id": "7353da58-3ee9-4e28-9f2a-7dbef0295a32",
   "metadata": {},
   "outputs": [],
   "source": []
  }
 ],
 "metadata": {
  "kernelspec": {
   "display_name": "Python 3 (ipykernel)",
   "language": "python",
   "name": "python3"
  },
  "language_info": {
   "codemirror_mode": {
    "name": "ipython",
    "version": 3
   },
   "file_extension": ".py",
   "mimetype": "text/x-python",
   "name": "python",
   "nbconvert_exporter": "python",
   "pygments_lexer": "ipython3",
   "version": "3.12.2"
  }
 },
 "nbformat": 4,
 "nbformat_minor": 5
}
